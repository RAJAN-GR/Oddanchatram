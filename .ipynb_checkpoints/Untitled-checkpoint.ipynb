{
 "cells": [
  {
   "cell_type": "code",
   "execution_count": 1,
   "metadata": {
    "collapsed": false
   },
   "outputs": [
    {
     "name": "stdout",
     "output_type": "stream",
     "text": [
      "./data/oddanchatram/2014/oddanchatram-market-vegetable-price-details-17082014.csv\n"
     ]
    }
   ],
   "source": [
    "from lib.lib import *\n",
    "url = 'http://oddanchatramvegetablemarket.com/category/oddanchatram-vegetable-price/page/100/'\n",
    "links = links_to_scan(url)\n",
    "link = links[-1]\n",
    "file_path = file_path_from_url(link)\n",
    "print(file_path)\n"
   ]
  },
  {
   "cell_type": "code",
   "execution_count": 2,
   "metadata": {
    "collapsed": false
   },
   "outputs": [
    {
     "data": {
      "text/plain": [
       "[1, 2, 3, 4, 5]"
      ]
     },
     "execution_count": 2,
     "metadata": {},
     "output_type": "execute_result"
    }
   ],
   "source": [
    "[1,2,3] + [4,5]"
   ]
  },
  {
   "cell_type": "code",
   "execution_count": 3,
   "metadata": {
    "collapsed": false
   },
   "outputs": [
    {
     "data": {
      "text/plain": [
       "'http://oddanchatramvegetablemarket.com/oddanchatram-market-vegetable-price-details-17082014/'"
      ]
     },
     "execution_count": 3,
     "metadata": {},
     "output_type": "execute_result"
    }
   ],
   "source": [
    "link"
   ]
  },
  {
   "cell_type": "code",
   "execution_count": 18,
   "metadata": {
    "collapsed": false
   },
   "outputs": [
    {
     "name": "stdout",
     "output_type": "stream",
     "text": [
      "[['Avarai Belt', '1', '56'], ['Avarai Kolee', '1', '18'], ['Avarai ottu', '1', '–'], ['Beans', '1', '48'], ['Beetroot', '1', '26'], ['Bellary', '1', '48'], ['C Flower', '1Flower', '14'], ['C Vengayam', '1', '33'], ['Chaw Chaw', '1', '20'], ['Kaththari Disco', '1', '10'], ['Kaththari Green', '1', '10'], ['Kothavarai', '1', '15'], ['Milagai Sambar', '1', '40'], ['Milagai urundai', '1', '40'], ['Mullaingi', '1', '10'], ['Murungai chedi', '1', '22'], ['Murungai Maram', '1', '17'], ['Nelli', '1', '32'], ['Pavarkai', '1', '33'], ['Perkangkai', '1', '18'], ['Pudalai', '1', '13'], ['Red Pusanikkai', '1', '11'], ['Sambar Vellari', '1', '3'], ['Suraikai', '1', '5'], ['Thakkali', '1', '36'], ['Thatta payaru', '1', '18'], ['Vendai', '1', '15']]\n"
     ]
    }
   ],
   "source": [
    "array = price_scanner(link)\n",
    "print(array)"
   ]
  },
  {
   "cell_type": "code",
   "execution_count": null,
   "metadata": {
    "collapsed": true
   },
   "outputs": [],
   "source": []
  }
 ],
 "metadata": {
  "anaconda-cloud": {},
  "kernelspec": {
   "display_name": "Python [conda root]",
   "language": "python",
   "name": "conda-root-py"
  },
  "language_info": {
   "codemirror_mode": {
    "name": "ipython",
    "version": 3
   },
   "file_extension": ".py",
   "mimetype": "text/x-python",
   "name": "python",
   "nbconvert_exporter": "python",
   "pygments_lexer": "ipython3",
   "version": "3.5.2"
  }
 },
 "nbformat": 4,
 "nbformat_minor": 1
}
